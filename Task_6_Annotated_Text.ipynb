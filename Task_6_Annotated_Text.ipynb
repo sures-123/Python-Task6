{
  "nbformat": 4,
  "nbformat_minor": 0,
  "metadata": {
    "colab": {
      "provenance": [],
      "authorship_tag": "ABX9TyP4QLD5Nb60JDstYlN1Tbmh",
      "include_colab_link": true
    },
    "kernelspec": {
      "name": "python3",
      "display_name": "Python 3"
    },
    "language_info": {
      "name": "python"
    }
  },
  "cells": [
    {
      "cell_type": "markdown",
      "metadata": {
        "id": "view-in-github",
        "colab_type": "text"
      },
      "source": [
        "<a href=\"https://colab.research.google.com/github/sures-123/Python-Task6/blob/main/Task_6_Annotated_Text.ipynb\" target=\"_parent\"><img src=\"https://colab.research.google.com/assets/colab-badge.svg\" alt=\"Open In Colab\"/></a>"
      ]
    },
    {
      "cell_type": "markdown",
      "source": [
        "**Step-1 : Create your annotations with the help of an external tool**\n",
        "https://tecoholic.github.io/ner-annotator/** **"
      ],
      "metadata": {
        "id": "RDf8cL9cT90o"
      }
    },
    {
      "cell_type": "markdown",
      "source": [
        "**Step-2 : Read the annotated json file**"
      ],
      "metadata": {
        "id": "LTfPCYxlUaKP"
      }
    },
    {
      "cell_type": "code",
      "source": [
        "import pandas as pd\n",
        "import json\n",
        "import os\n",
        "with open('//content//annotations (1).json', 'r') as json_file:\n",
        "    data = json.load(json_file)\n",
        "data"
      ],
      "metadata": {
        "id": "QRvSk4xiUfcM",
        "colab": {
          "base_uri": "https://localhost:8080/"
        },
        "outputId": "a1df2ac9-1778-4d50-e2f6-7f8d7a774841"
      },
      "execution_count": 18,
      "outputs": [
        {
          "output_type": "execute_result",
          "data": {
            "text/plain": [
              "{'classes': ['SPORT',\n",
              "  'ORGANIZATION',\n",
              "  'YEAR',\n",
              "  'MONTH',\n",
              "  'DATE',\n",
              "  'TOURNAMENT TYPE',\n",
              "  'COUNTRY'],\n",
              " 'annotations': [[\"The 2023 ICC Men's Cricket World Cup is the 13th edition of the Cricket World Cup, a quadrennial One Day International (ODI) cricket tournament contested by men's national teams and organised by the International Cricket Council (ICC). The tournament is being hosted by India, it started on 5 October and is scheduled to conclude on 19 November 2023.\\r\",\n",
              "   {'entities': [[4, 8, 'YEAR'],\n",
              "     [9, 12, 'ORGANIZATION'],\n",
              "     [19, 26, 'SPORT'],\n",
              "     [27, 36, 'TOURNAMENT TYPE'],\n",
              "     [64, 71, 'SPORT'],\n",
              "     [72, 81, 'TOURNAMENT TYPE'],\n",
              "     [97, 132, 'ORGANIZATION'],\n",
              "     [199, 234, 'ORGANIZATION'],\n",
              "     [270, 275, 'COUNTRY'],\n",
              "     [291, 292, 'DATE'],\n",
              "     [293, 300, 'MONTH'],\n",
              "     [333, 335, 'DATE'],\n",
              "     [336, 344, 'MONTH'],\n",
              "     [345, 349, 'YEAR']]}],\n",
              "  ['\\r', {'entities': []}],\n",
              "  [\"Ten national teams are participating that is Afghanistan, Australia, Bangladesh, England, India, Netherlands, New Zealand, Pakistan, South Africa and Sri Lanka. Netherlands and Sri Lanka qualified by playing qualifier tournament held in Zimbabwe earlier this year. [1] Teams had to progress to the tournament via the 2023 Cricket World Cup qualification process, with the West Indies missing out for the first time in their history. England are the defending champions, having won the 2019 edition by defeating New Zealand in the final at Lord's, London.\\r\",\n",
              "   {'entities': [[45, 186, 'COUNTRY'],\n",
              "     [237, 245, 'COUNTRY'],\n",
              "     [317, 321, 'YEAR'],\n",
              "     [322, 329, 'SPORT'],\n",
              "     [330, 339, 'TOURNAMENT TYPE'],\n",
              "     [372, 383, 'COUNTRY'],\n",
              "     [433, 440, 'COUNTRY'],\n",
              "     [485, 489, 'YEAR'],\n",
              "     [511, 522, 'COUNTRY'],\n",
              "     [547, 553, 'COUNTRY']]}],\n",
              "  ['\\r', {'entities': []}],\n",
              "  [\"It is the first men's Cricket World Cup which India is hosting solely. They co-hosted 1987, 1996 and 2011 editions with other neighbouring nations. The tournament is taking place in ten different stadiums, in ten cities across India. The first and second semi-finals will be held at Wankhede Stadium in Mumbai and Eden Gardens in Kolkata respectively, while the final will take place at Narendra Modi Stadium, Ahmedabad.\",\n",
              "   {'entities': [[22, 29, 'SPORT'],\n",
              "     [30, 39, 'TOURNAMENT TYPE'],\n",
              "     [46, 51, 'COUNTRY'],\n",
              "     [86, 105, 'YEAR'],\n",
              "     [227, 233, 'COUNTRY']]}]]}"
            ]
          },
          "metadata": {},
          "execution_count": 18
        }
      ]
    },
    {
      "cell_type": "markdown",
      "source": [
        "**Step-3 : Run this custom code to convert to required format**"
      ],
      "metadata": {
        "id": "J61s6UqsuvCF"
      }
    },
    {
      "cell_type": "code",
      "source": [
        "entity_name = \"SPORT\",\"YEAR\",\"ORGANIZATION\",\"TOURNAMENT TYPE\",\"YEAR\",\"MONTH\",\"DATE\",\"COUNTRY\"\n",
        "\n",
        "train_data = data['annotations']\n",
        "train_data = [tuple(i) for i in train_data]\n",
        "train_data\n"
      ],
      "metadata": {
        "colab": {
          "base_uri": "https://localhost:8080/"
        },
        "id": "tTeDXbaVpplG",
        "outputId": "2f67ae9b-dd9f-4383-91ce-73e8ca8a4150"
      },
      "execution_count": 21,
      "outputs": [
        {
          "output_type": "execute_result",
          "data": {
            "text/plain": [
              "[(\"The 2023 ICC Men's Cricket World Cup is the 13th edition of the Cricket World Cup, a quadrennial One Day International (ODI) cricket tournament contested by men's national teams and organised by the International Cricket Council (ICC). The tournament is being hosted by India, it started on 5 October and is scheduled to conclude on 19 November 2023.\\r\",\n",
              "  {'entities': [(4, 8, 'YEAR'),\n",
              "    [9, 12, 'ORGANIZATION'],\n",
              "    [19, 26, 'SPORT'],\n",
              "    [27, 36, 'TOURNAMENT TYPE'],\n",
              "    [64, 71, 'SPORT'],\n",
              "    [72, 81, 'TOURNAMENT TYPE'],\n",
              "    [97, 132, 'ORGANIZATION'],\n",
              "    [199, 234, 'ORGANIZATION'],\n",
              "    [270, 275, 'COUNTRY'],\n",
              "    [291, 292, 'DATE'],\n",
              "    [293, 300, 'MONTH'],\n",
              "    [333, 335, 'DATE'],\n",
              "    [336, 344, 'MONTH'],\n",
              "    [345, 349, 'YEAR']]}),\n",
              " ('\\r', {'entities': []}),\n",
              " (\"Ten national teams are participating that is Afghanistan, Australia, Bangladesh, England, India, Netherlands, New Zealand, Pakistan, South Africa and Sri Lanka. Netherlands and Sri Lanka qualified by playing qualifier tournament held in Zimbabwe earlier this year. [1] Teams had to progress to the tournament via the 2023 Cricket World Cup qualification process, with the West Indies missing out for the first time in their history. England are the defending champions, having won the 2019 edition by defeating New Zealand in the final at Lord's, London.\\r\",\n",
              "  {'entities': [[45, 186, 'COUNTRY'],\n",
              "    [237, 245, 'COUNTRY'],\n",
              "    [317, 321, 'YEAR'],\n",
              "    [322, 329, 'SPORT'],\n",
              "    [330, 339, 'TOURNAMENT TYPE'],\n",
              "    [372, 383, 'COUNTRY'],\n",
              "    [433, 440, 'COUNTRY'],\n",
              "    [485, 489, 'YEAR'],\n",
              "    [511, 522, 'COUNTRY'],\n",
              "    [547, 553, 'COUNTRY']]}),\n",
              " ('\\r', {'entities': []}),\n",
              " (\"It is the first men's Cricket World Cup which India is hosting solely. They co-hosted 1987, 1996 and 2011 editions with other neighbouring nations. The tournament is taking place in ten different stadiums, in ten cities across India. The first and second semi-finals will be held at Wankhede Stadium in Mumbai and Eden Gardens in Kolkata respectively, while the final will take place at Narendra Modi Stadium, Ahmedabad.\",\n",
              "  {'entities': [[22, 29, 'SPORT'],\n",
              "    [30, 39, 'TOURNAMENT TYPE'],\n",
              "    [46, 51, 'COUNTRY'],\n",
              "    [86, 105, 'YEAR'],\n",
              "    [227, 233, 'COUNTRY']]})]"
            ]
          },
          "metadata": {},
          "execution_count": 21
        }
      ]
    },
    {
      "cell_type": "code",
      "source": [
        "for i in train_data:\n",
        "    if i[1]['entities'] == []:\n",
        "        i[1]['entities'] = (0, 0, entity_name)\n",
        "    else:\n",
        "        i[1]['entities'][0] = tuple(i[1]['entities'][0])\n",
        "train_data"
      ],
      "metadata": {
        "colab": {
          "base_uri": "https://localhost:8080/"
        },
        "id": "pIsYhCt-u63V",
        "outputId": "0a9ed503-84f4-49b7-e737-d8ffbe23ad7b"
      },
      "execution_count": 22,
      "outputs": [
        {
          "output_type": "execute_result",
          "data": {
            "text/plain": [
              "[(\"The 2023 ICC Men's Cricket World Cup is the 13th edition of the Cricket World Cup, a quadrennial One Day International (ODI) cricket tournament contested by men's national teams and organised by the International Cricket Council (ICC). The tournament is being hosted by India, it started on 5 October and is scheduled to conclude on 19 November 2023.\\r\",\n",
              "  {'entities': [(4, 8, 'YEAR'),\n",
              "    [9, 12, 'ORGANIZATION'],\n",
              "    [19, 26, 'SPORT'],\n",
              "    [27, 36, 'TOURNAMENT TYPE'],\n",
              "    [64, 71, 'SPORT'],\n",
              "    [72, 81, 'TOURNAMENT TYPE'],\n",
              "    [97, 132, 'ORGANIZATION'],\n",
              "    [199, 234, 'ORGANIZATION'],\n",
              "    [270, 275, 'COUNTRY'],\n",
              "    [291, 292, 'DATE'],\n",
              "    [293, 300, 'MONTH'],\n",
              "    [333, 335, 'DATE'],\n",
              "    [336, 344, 'MONTH'],\n",
              "    [345, 349, 'YEAR']]}),\n",
              " ('\\r',\n",
              "  {'entities': (0,\n",
              "    0,\n",
              "    ('SPORT',\n",
              "     'YEAR',\n",
              "     'ORGANIZATION',\n",
              "     'TOURNAMENT TYPE',\n",
              "     'YEAR',\n",
              "     'MONTH',\n",
              "     'DATE',\n",
              "     'COUNTRY'))}),\n",
              " (\"Ten national teams are participating that is Afghanistan, Australia, Bangladesh, England, India, Netherlands, New Zealand, Pakistan, South Africa and Sri Lanka. Netherlands and Sri Lanka qualified by playing qualifier tournament held in Zimbabwe earlier this year. [1] Teams had to progress to the tournament via the 2023 Cricket World Cup qualification process, with the West Indies missing out for the first time in their history. England are the defending champions, having won the 2019 edition by defeating New Zealand in the final at Lord's, London.\\r\",\n",
              "  {'entities': [(45, 186, 'COUNTRY'),\n",
              "    [237, 245, 'COUNTRY'],\n",
              "    [317, 321, 'YEAR'],\n",
              "    [322, 329, 'SPORT'],\n",
              "    [330, 339, 'TOURNAMENT TYPE'],\n",
              "    [372, 383, 'COUNTRY'],\n",
              "    [433, 440, 'COUNTRY'],\n",
              "    [485, 489, 'YEAR'],\n",
              "    [511, 522, 'COUNTRY'],\n",
              "    [547, 553, 'COUNTRY']]}),\n",
              " ('\\r',\n",
              "  {'entities': (0,\n",
              "    0,\n",
              "    ('SPORT',\n",
              "     'YEAR',\n",
              "     'ORGANIZATION',\n",
              "     'TOURNAMENT TYPE',\n",
              "     'YEAR',\n",
              "     'MONTH',\n",
              "     'DATE',\n",
              "     'COUNTRY'))}),\n",
              " (\"It is the first men's Cricket World Cup which India is hosting solely. They co-hosted 1987, 1996 and 2011 editions with other neighbouring nations. The tournament is taking place in ten different stadiums, in ten cities across India. The first and second semi-finals will be held at Wankhede Stadium in Mumbai and Eden Gardens in Kolkata respectively, while the final will take place at Narendra Modi Stadium, Ahmedabad.\",\n",
              "  {'entities': [(22, 29, 'SPORT'),\n",
              "    [30, 39, 'TOURNAMENT TYPE'],\n",
              "    [46, 51, 'COUNTRY'],\n",
              "    [86, 105, 'YEAR'],\n",
              "    [227, 233, 'COUNTRY']]})]"
            ]
          },
          "metadata": {},
          "execution_count": 22
        }
      ]
    }
  ]
}